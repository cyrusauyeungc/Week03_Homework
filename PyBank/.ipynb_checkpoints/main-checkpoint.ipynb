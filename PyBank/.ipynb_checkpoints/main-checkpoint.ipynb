{
 "cells": [
  {
   "cell_type": "code",
   "execution_count": 8,
   "metadata": {},
   "outputs": [
    {
     "name": "stdout",
     "output_type": "stream",
     "text": [
      "Financial Analysis \n",
      "---------------------------- \n",
      "Total Months: 86 \n",
      "Total: $38382578 \n",
      "Average  Change: $446309.05 \n",
      "Greatest Increase in Profits: Feb-2012 ($1170593) \n",
      "Greatest Decrease in Profits: Sep-2013 ($-1196225)\n"
     ]
    }
   ],
   "source": [
    "import os\n",
    "import csv\n",
    "\n",
    "csvpath = os.path.join('..','PyBank', 'Resources', 'budget_data.csv')\n",
    "\n",
    "with open(csvpath) as csvfile:\n",
    "    csvreader = csv.reader(csvfile, delimiter=',')\n",
    "    csv_header = next(csvreader,None)\n",
    "       \n",
    "    total = 0\n",
    "    row_count = 0\n",
    "    maxx = 0\n",
    "    minn = 0\n",
    "    for row in csvreader:\n",
    "        total += int(row[1])\n",
    "        row_count += 1\n",
    "        if float(row[1]) > float(maxx):\n",
    "            maxx = row[1]\n",
    "            max_date = row[0]\n",
    "        if float(row[1]) < float(minn):\n",
    "            minn = row[1]\n",
    "            min_date = row[0]\n",
    "    \n",
    "    print(f\"Financial Analysis\",\n",
    "          f\"\\n----------------------------\",\n",
    "          f\"\\nTotal Months: {row_count}\",\n",
    "          f\"\\nTotal: ${total}\",\n",
    "          f\"\\nAverage  Change: ${round(total/row_count,2)}\",\n",
    "          f\"\\nGreatest Increase in Profits: {max_date} (${maxx})\",\n",
    "          f\"\\nGreatest Decrease in Profits: {min_date} (${minn})\")\n",
    "    \n",
    "    txtpath = os.path.join('..','PyBank', 'analysis', 'Text Output.txt')\n",
    "    file1 = open(txtpath,\"w\") \n",
    "    file1.writelines(f\"Financial Analysis\\n----------------------------\\nTotal Months: {row_count}\\nTotal: ${total}\\nAverage  Change: ${round(total/row_count,2)}\\nGreatest Increase in Profits: {max_date} (${maxx})\\nGreatest Decrease in Profits: {min_date} (${minn})\") \n",
    "    file1.close()"
   ]
  }
 ],
 "metadata": {
  "kernelspec": {
   "display_name": "Python 3",
   "language": "python",
   "name": "python3"
  },
  "language_info": {
   "codemirror_mode": {
    "name": "ipython",
    "version": 3
   },
   "file_extension": ".py",
   "mimetype": "text/x-python",
   "name": "python",
   "nbconvert_exporter": "python",
   "pygments_lexer": "ipython3",
   "version": "3.7.9"
  }
 },
 "nbformat": 4,
 "nbformat_minor": 4
}
