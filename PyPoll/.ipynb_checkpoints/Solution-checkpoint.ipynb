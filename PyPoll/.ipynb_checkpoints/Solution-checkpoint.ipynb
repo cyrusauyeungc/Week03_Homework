{
 "cells": [
  {
   "cell_type": "code",
   "execution_count": 6,
   "metadata": {},
   "outputs": [
    {
     "name": "stdout",
     "output_type": "stream",
     "text": [
      "Election Results \n",
      "---------------------------- \n",
      "Total Votes: 3521001 \n",
      "----------------------------\n",
      "Khan: 63.000% (2218231)\n",
      "Correy: 20.000% (704200)\n",
      "Li: 14.000% (492940)\n",
      "O'Tooley: 3.000% (105630)\n",
      "---------------------------- \n",
      "Winner: Khan \n",
      "----------------------------\n"
     ]
    }
   ],
   "source": [
    "import os\n",
    "import csv\n",
    "\n",
    "csvpath = os.path.join('..','PyPoll', 'Resources', 'election_data.csv')\n",
    "\n",
    "with open(csvpath) as csvfile:\n",
    "    csvreader = csv.reader(csvfile, delimiter=',')\n",
    "    csv_header = next(csvreader,None)\n",
    "    \n",
    "    row_count = 0\n",
    "    \n",
    "    cand={}\n",
    "    \n",
    "    for row in csvreader:\n",
    "         row_count += 1\n",
    "         if row[2] not in cand:\n",
    "            cand[row[2]] = 0\n",
    "         cand[row[2]] = cand[row[2]] + 1\n",
    "\n",
    "    print(f\"Election Results\",\n",
    "          f\"\\n----------------------------\",\n",
    "          f\"\\nTotal Votes: {row_count}\",\n",
    "          f\"\\n----------------------------\")\n",
    "    for row in cand:\n",
    "           print(f\"{row}: {format((cand[row]/row_count*100),'.3f')}% ({cand[row]})\")\n",
    "    print(f\"----------------------------\",\n",
    "            f\"\\nWinner: {max(cand, key=cand.get)}\",\n",
    "            f\"\\n----------------------------\")\n",
    "    \n",
    "    txtpath = os.path.join('..','PyPoll', 'analysis', 'Text Output.txt')\n",
    "    file1 = open(txtpath,\"w\") \n",
    "    file1.writelines(f\"Election Results\\n----------------------------\\nTotal Votes: {row_count}\\n----------------------------\")\n",
    "    for row in cand:\n",
    "        file1.write(f\"\\n{row}: {format((cand[row]/row_count*100),'.3f')}% ({cand[row]})\")\n",
    "    file1.writelines(f\"\\n----------------------------\\nWinner: {max(cand, key=cand.get)}\\n----------------------------\")    \n",
    "    file1.close()"
   ]
  },
  {
   "cell_type": "code",
   "execution_count": null,
   "metadata": {},
   "outputs": [],
   "source": []
  }
 ],
 "metadata": {
  "kernelspec": {
   "display_name": "Python 3",
   "language": "python",
   "name": "python3"
  },
  "language_info": {
   "codemirror_mode": {
    "name": "ipython",
    "version": 3
   },
   "file_extension": ".py",
   "mimetype": "text/x-python",
   "name": "python",
   "nbconvert_exporter": "python",
   "pygments_lexer": "ipython3",
   "version": "3.7.9"
  }
 },
 "nbformat": 4,
 "nbformat_minor": 4
}
